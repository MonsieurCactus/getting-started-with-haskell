{
 "metadata": {
  "language": "haskell",
  "name": "",
  "signature": "sha256:b010e0dcc44be734df161431457cc070c2be3eb1d2e7b3c007f9f29e2ac2435a"
 },
 "nbformat": 3,
 "nbformat_minor": 0,
 "worksheets": [
  {
   "cells": [
    {
     "cell_type": "code",
     "collapsed": false,
     "input": [
      "import Control.Monad (forM_)"
     ],
     "language": "python",
     "metadata": {
      "hidden": false
     },
     "outputs": [],
     "prompt_number": 1
    },
    {
     "cell_type": "code",
     "collapsed": false,
     "input": [
      "import Text.Blaze.Html5 as H"
     ],
     "language": "python",
     "metadata": {
      "hidden": false
     },
     "outputs": [],
     "prompt_number": 2
    },
    {
     "cell_type": "code",
     "collapsed": false,
     "input": [
      "import Text.Blaze.Html5.Attributes as A"
     ],
     "language": "python",
     "metadata": {
      "hidden": false
     },
     "outputs": [],
     "prompt_number": 3
    },
    {
     "cell_type": "code",
     "collapsed": false,
     "input": [
      "{-# LANGUAGE OverloadedStrings #-}"
     ],
     "language": "python",
     "metadata": {
      "hidden": false
     },
     "outputs": [],
     "prompt_number": 8
    },
    {
     "cell_type": "code",
     "collapsed": false,
     "input": [
      "numbers :: Int -> Html\n",
      "\n",
      "numbers n = docTypeHtml $ do\n",
      "    H.head $ do\n",
      "        H.title \"Natural numbers\"\n",
      "    body $ do\n",
      "        p \"A list of natural numbers:\"\n",
      "        ul $ forM_ [1 .. n] (li . toHtml)"
     ],
     "language": "python",
     "metadata": {
      "hidden": false
     },
     "outputs": [
      {
       "html": [
        " <div class=\"suggestion-name\" style=\"clear:both;\">Redundant do</div>  <div class=\"suggestion-row\" style=\"float: left;\"> <div class=\"suggestion-error\">Found:</div>  <div class=\"highlight-code\" id=\"haskell\">do H.title \"Natural numbers\"</div> </div>  <div class=\"suggestion-row\" style=\"float: left;\"> <div class=\"suggestion-error\">Why Not:</div>  <div class=\"highlight-code\" id=\"haskell\">H.title \"Natural numbers\"</div> </div> "
       ],
       "metadata": {},
       "output_type": "display_data",
       "text": [
        "Line 3: Redundant do\n",
        "Found:\n",
        "do H.title \"Natural numbers\"\n",
        "Why not:\n",
        "H.title \"Natural numbers\""
       ]
      }
     ],
     "prompt_number": 9
    },
    {
     "cell_type": "code",
     "collapsed": false,
     "input": [
      "import Text.Blaze.Renderer.String"
     ],
     "language": "python",
     "metadata": {
      "hidden": false
     },
     "outputs": [],
     "prompt_number": 21
    },
    {
     "cell_type": "code",
     "collapsed": false,
     "input": [
      "Text.Blaze.Renderer.String.renderHtml (numbers 3)"
     ],
     "language": "python",
     "metadata": {
      "hidden": false
     },
     "outputs": [
      {
       "metadata": {},
       "output_type": "display_data",
       "text": [
        "\"<!DOCTYPE HTML>\\n<html><head><title>Natural numbers</title></head><body><p>A list of natural numbers:</p><ul><li>1</li><li>2</li><li>3</li></ul></body></html>\""
       ]
      }
     ],
     "prompt_number": 26
    },
    {
     "cell_type": "code",
     "collapsed": false,
     "input": [],
     "language": "python",
     "metadata": {
      "hidden": false
     },
     "outputs": []
    }
   ],
   "metadata": {}
  }
 ]
}
